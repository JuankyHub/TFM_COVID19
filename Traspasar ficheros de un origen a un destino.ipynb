{
 "cells": [
  {
   "cell_type": "code",
   "execution_count": 69,
   "id": "46e90f76",
   "metadata": {},
   "outputs": [],
   "source": [
    "import pandas as pd\n",
    "import shutil\n",
    "import os\n",
    "from urllib import request"
   ]
  },
  {
   "cell_type": "code",
   "execution_count": 73,
   "id": "c0ca2e9d",
   "metadata": {},
   "outputs": [],
   "source": [
    "#Ruta origen\n",
    "#rutaorigen = (\"M:/BIOEST/DOCUMENTACIO_DIRECCIO/ACORDS_DE_GESTIO/Fitxers_EXCEL_manuals/\")\n",
    "rutaorigen = (\"https://raw.githubusercontent.com/selva86/datasets/master/BostonHousing.csv\")\n"
   ]
  },
  {
   "cell_type": "code",
   "execution_count": 78,
   "id": "fdf8fabd",
   "metadata": {},
   "outputs": [],
   "source": [
    "#ruta destino para fichero individual\n",
    "#rutadestino = (\"M:/BIOEST/DOCUMENTACIO_DIRECCIO/ACORDS_DE_GESTIO/Fitxers_EXCEL_manuals/carpeta_destino/\")\n",
    "\n",
    "#ruta destino para copiar el contenido de una carpeta\n",
    "rutadestino = (\"G:/carpeta_destino/BostonHousing.csv\")\n"
   ]
  },
  {
   "cell_type": "code",
   "execution_count": 79,
   "id": "d58768b6",
   "metadata": {},
   "outputs": [
    {
     "data": {
      "text/plain": [
       "('G:/carpeta_destino/BostonHousing.csv',\n",
       " <http.client.HTTPMessage at 0x1c0b3a04190>)"
      ]
     },
     "execution_count": 79,
     "metadata": {},
     "output_type": "execute_result"
    }
   ],
   "source": [
    "#Copiar un fichero a una carpeta de destino\n",
    "#shutil.copy(rutaorigen + \"QDCEA_ACT_TRASPLANTAMENTS.xlsx\",rutadestino)\n",
    "\n",
    "#Copiar el contenido de una carpeta // Hay que crear la carpeta donde se va a crear\"Nueva Carpeta\"\n",
    "#shutil.copytree(rutaorigen , rutadestino)\n",
    "\n",
    "#Copiar un fichero de la Web \"Https://\"\n",
    "request.urlretrieve(rutaorigen , rutadestino)\n"
   ]
  },
  {
   "cell_type": "code",
   "execution_count": null,
   "id": "6e9ce76f",
   "metadata": {},
   "outputs": [],
   "source": []
  }
 ],
 "metadata": {
  "kernelspec": {
   "display_name": "Python 3 (ipykernel)",
   "language": "python",
   "name": "python3"
  },
  "language_info": {
   "codemirror_mode": {
    "name": "ipython",
    "version": 3
   },
   "file_extension": ".py",
   "mimetype": "text/x-python",
   "name": "python",
   "nbconvert_exporter": "python",
   "pygments_lexer": "ipython3",
   "version": "3.9.13"
  }
 },
 "nbformat": 4,
 "nbformat_minor": 5
}
